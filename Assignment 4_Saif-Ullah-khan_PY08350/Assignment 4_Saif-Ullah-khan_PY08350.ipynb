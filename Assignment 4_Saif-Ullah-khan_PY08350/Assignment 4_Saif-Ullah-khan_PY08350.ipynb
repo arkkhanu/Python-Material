{
 "cells": [
  {
   "cell_type": "code",
   "execution_count": 22,
   "metadata": {},
   "outputs": [
    {
     "name": "stdout",
     "output_type": "stream",
     "text": [
      "Stored Data:- {'fname': 'Saif', 'lname': 'khan', 'age': 20, 'city': 'karachi', 'qualification': 'Inter'}\n",
      "\n",
      "Input Last Qualification: Bachelur\n",
      "\n",
      "New Data:- {'fname': 'Saif', 'lname': 'khan', 'age': 20, 'city': 'karachi', 'qualification': 'Bachelur'}\n",
      "\n",
      "After Deletion:- {'fname': 'Saif', 'lname': 'khan', 'age': 20, 'city': 'karachi'}\n"
     ]
    }
   ],
   "source": [
    "student={\n",
    "    \"fname\":\"Saif\",\n",
    "    \"lname\":\"khan\",\n",
    "    \"age\":20,\n",
    "    \"city\":\"karachi\",\n",
    "    \"qualification\":\"Inter\"\n",
    "}\n",
    "print(\"Stored Data:-\",student)\n",
    "quali=input(\"\\nInput Last Qualification: \")\n",
    "student[\"qualification\"]=quali;\n",
    "print(\"\\nNew Data:-\",student)\n",
    "del(student[\"qualification\"])\n",
    "print(\"\\nAfter Deletion:-\",student)"
   ]
  },
  {
   "cell_type": "code",
   "execution_count": 40,
   "metadata": {},
   "outputs": [
    {
     "name": "stdout",
     "output_type": "stream",
     "text": [
      "KARACHI : {'country': 'Pakistan', 'population': 10000000, 'fact': 'City of Lights'}\n",
      "HYDERABAD : {'country': 'Pakistan', 'population': 5000000, 'fact': 'famous for Palla fish'}\n",
      "QUETTA : {'country': 'Pakistan', 'population': 1000000, 'fact': 'Dry fruits exporter'}\n"
     ]
    }
   ],
   "source": [
    "cities={\n",
    "    \"karachi\":{\"country\":\"Pakistan\",\"population\":10000000,\"fact\":\"City of Lights\"},\n",
    "    \"hyderabad\":{\"country\":\"Pakistan\",\"population\":5000000,\"fact\":\"famous for Palla fish\"},\n",
    "    \"quetta\":{\"country\":\"Pakistan\",\"population\":1000000,\"fact\":\"Dry fruits exporter\"}\n",
    "       }\n",
    "#print(cities[\"karachi\"])\n",
    "#print(cities[\"hyderabad\"])\n",
    "#print(cities[\"quetta\"])\n",
    "for key in cities:\n",
    "    print(key.upper(),\":\",cities[key])"
   ]
  },
  {
   "cell_type": "code",
   "execution_count": 2,
   "metadata": {},
   "outputs": [
    {
     "name": "stdout",
     "output_type": "stream",
     "text": [
      "Welcome !\n",
      "Enter Your age:2\n",
      "Your ticket is free ! :)\n",
      "Welcome !\n",
      "Enter Your age:-1\n",
      "Invalid Age !\n",
      "Welcome !\n",
      "Enter Your age:12\n",
      "Your ticket price is :$10\n",
      "Welcome !\n",
      "Enter Your age:13\n",
      "Your ticket price is :$15\n",
      "Welcome !\n",
      "Enter Your age:50\n",
      "Your ticket price is :$15\n"
     ]
    }
   ],
   "source": [
    "for i in range(0, 5):\n",
    "    age=int(input(\"Welcome !\\nEnter Your age:\"))\n",
    "    if age<3 and age>0:\n",
    "        print(\"Your ticket is free ! :)\")\n",
    "    elif age>=3 and age <=12:\n",
    "        print(\"Your ticket price is :$10\")\n",
    "    elif age>12:\n",
    "        print(\"Your ticket price is :$15\")\n",
    "    else:\n",
    "        print(\"Invalid Age !\")"
   ]
  },
  {
   "cell_type": "code",
   "execution_count": 4,
   "metadata": {},
   "outputs": [
    {
     "name": "stdout",
     "output_type": "stream",
     "text": [
      "Enter Book: pirate of the caribian\n",
      "My Favourite Book is:  pirate of the caribian\n"
     ]
    }
   ],
   "source": [
    "def favourite_book(title):\n",
    "    print(\"My Favourite Book is: \",title)\n",
    "    \n",
    "inp=input(\"Enter Book: \")\n",
    "favourite_book(inp)\n"
   ]
  },
  {
   "cell_type": "code",
   "execution_count": 6,
   "metadata": {},
   "outputs": [
    {
     "name": "stdout",
     "output_type": "stream",
     "text": [
      "Enter choice no :1 5\n",
      "You Enter smaller number than random number !\n",
      "Try Again !\n",
      "\n",
      "Enter choice no :2 10\n",
      "You Enter smaller number than random number !\n",
      "Try Again !\n",
      "\n",
      "Enter choice no :3 21\n",
      "You Enter Greater number than random number !\n",
      "Try Again !\n",
      "\n",
      "The Hidden Number was:20\n"
     ]
    }
   ],
   "source": [
    "import random\n",
    "ran=random.randrange(1,30,1)\n",
    "\n",
    "for i in range(1,4):\n",
    "    inp=int(input(\"Enter choice no :\"+str(i)+\" \"))\n",
    "    if inp==ran:\n",
    "        print(\"woohoo ! Right answer\")\n",
    "        break\n",
    "    elif inp<ran :\n",
    "            print(\"You Enter smaller number than random number !\\nTry Again !\\n\")\n",
    "    elif inp>ran :\n",
    "            print(\"You Enter Greater number than random number !\\nTry Again !\\n\")\n",
    "            \n",
    "print(\"The Hidden Number was:\"+str(ran)+\"\")"
   ]
  },
  {
   "cell_type": "code",
   "execution_count": null,
   "metadata": {},
   "outputs": [],
   "source": []
  }
 ],
 "metadata": {
  "kernelspec": {
   "display_name": "Python 3",
   "language": "python",
   "name": "python3"
  },
  "language_info": {
   "codemirror_mode": {
    "name": "ipython",
    "version": 3
   },
   "file_extension": ".py",
   "mimetype": "text/x-python",
   "name": "python",
   "nbconvert_exporter": "python",
   "pygments_lexer": "ipython3",
   "version": "3.7.4"
  }
 },
 "nbformat": 4,
 "nbformat_minor": 2
}

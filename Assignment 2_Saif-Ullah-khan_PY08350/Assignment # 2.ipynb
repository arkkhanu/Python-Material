{
 "cells": [
  {
   "cell_type": "code",
   "execution_count": 1,
   "metadata": {},
   "outputs": [
    {
     "name": "stdout",
     "output_type": "stream",
     "text": [
      "Enter Marks for Subject 1: 10\n",
      "Enter Marks for Subject 2: 15\n",
      "Enter Marks for Subject 3: 5\n",
      "Enter Marks for Subject 4: 12\n",
      "Enter Marks for Subject 5: 18\n",
      "\n",
      "Your Total Marks are:  60 \n",
      "And Your Grade is:  C\n"
     ]
    }
   ],
   "source": [
    "mark1=input(\"Enter Marks for Subject 1: \")\n",
    "mark2=input(\"Enter Marks for Subject 2: \")\n",
    "mark3=input(\"Enter Marks for Subject 3: \")\n",
    "mark4=input(\"Enter Marks for Subject 4: \")\n",
    "mark5=input(\"Enter Marks for Subject 5: \")\n",
    "\n",
    "sum=int(mark1)+int(mark2)+int(mark3)+int(mark4)+int(mark5)\n",
    "\n",
    "if sum>=86 and sum<=100 :\n",
    "    grade='A'\n",
    "elif sum>=75 and sum<86 :\n",
    "    grade='B'\n",
    "elif sum>=60 and sum <75 :\n",
    "    grade='C'\n",
    "else :\n",
    "    grade='F'\n",
    "    \n",
    "print(\"\\nYour Total Marks are: \",sum, \"\\nAnd Your Grade is: \",grade)"
   ]
  },
  {
   "cell_type": "code",
   "execution_count": 2,
   "metadata": {},
   "outputs": [
    {
     "name": "stdout",
     "output_type": "stream",
     "text": [
      "Enter the Number: 22\n",
      "22  is Even !\n"
     ]
    }
   ],
   "source": [
    "a=int(input(\"Enter the Number: \"))\n",
    "if (a % 2 == 0) :\n",
    "    print(a,\" is Even !\")\n",
    "else :\n",
    "    print(a,\" is Odd !\")"
   ]
  },
  {
   "cell_type": "code",
   "execution_count": 3,
   "metadata": {},
   "outputs": [
    {
     "name": "stdout",
     "output_type": "stream",
     "text": [
      "The size of list is:  5\n"
     ]
    }
   ],
   "source": [
    "a=[1,\"abc\",True,\"saif\",199887]\n",
    "print(\"The size of list is: \",len(a))"
   ]
  },
  {
   "cell_type": "code",
   "execution_count": 9,
   "metadata": {},
   "outputs": [
    {
     "name": "stdout",
     "output_type": "stream",
     "text": [
      "24\n"
     ]
    }
   ],
   "source": [
    "list_a=str([1,\"saif\",4,\"khan\",5,\"python\", True, 11])\n",
    "\n",
    "for i in range(len(list_a)) :\n",
    "    if list_a[i].isdigit() :\n",
    "        sum+=int(list_a[i])\n",
    "        \n",
    "print(sum)"
   ]
  },
  {
   "cell_type": "code",
   "execution_count": 7,
   "metadata": {},
   "outputs": [
    {
     "name": "stdout",
     "output_type": "stream",
     "text": [
      "The greatest Number from list is:  24\n"
     ]
    }
   ],
   "source": [
    "list_b=[1,4,7,2,12,3,24,6]\n",
    "    \n",
    "print(\"The greatest Number from list is: \",max(list_b))"
   ]
  },
  {
   "cell_type": "code",
   "execution_count": 10,
   "metadata": {},
   "outputs": [
    {
     "name": "stdout",
     "output_type": "stream",
     "text": [
      "1 \n",
      "\n",
      "1 \n",
      "\n",
      "2 \n",
      "\n",
      "3 \n",
      "\n"
     ]
    }
   ],
   "source": [
    "a = [1, 1, 2, 3, 5, 8, 13, 21, 34, 55, 89]\n",
    "\n",
    "for i in range(len(a)):\n",
    "    if a[i]<5 :\n",
    "        print(a[i],\"\\n\")"
   ]
  },
  {
   "cell_type": "code",
   "execution_count": null,
   "metadata": {},
   "outputs": [],
   "source": []
  }
 ],
 "metadata": {
  "kernelspec": {
   "display_name": "Python 3",
   "language": "python",
   "name": "python3"
  },
  "language_info": {
   "codemirror_mode": {
    "name": "ipython",
    "version": 3
   },
   "file_extension": ".py",
   "mimetype": "text/x-python",
   "name": "python",
   "nbconvert_exporter": "python",
   "pygments_lexer": "ipython3",
   "version": "3.7.4"
  }
 },
 "nbformat": 4,
 "nbformat_minor": 2
}

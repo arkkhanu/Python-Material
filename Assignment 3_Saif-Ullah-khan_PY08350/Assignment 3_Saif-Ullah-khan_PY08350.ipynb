{
 "cells": [
  {
   "cell_type": "code",
   "execution_count": 2,
   "metadata": {},
   "outputs": [
    {
     "name": "stdout",
     "output_type": "stream",
     "text": [
      "If you want to do Addition Press 1\n",
      "If you want to do Substraction Press 2\n",
      "If you want to do Multiplication Press 3\n",
      "If you want to do Division Press 4\n",
      "If you want to find power press 5\n",
      " 5\n",
      "Enter base: 5\n",
      "Enter Power: 2\n",
      "5  to the power  2  is:  25\n"
     ]
    }
   ],
   "source": [
    "choice=int(input(\"If you want to do Addition Press 1\\nIf you want to do Substraction Press 2\\nIf you want to do Multiplication Press 3\\nIf you want to do Division Press 4\\nIf you want to find power press 5\\n \"))\n",
    "if choice==1 :\n",
    "    a=input(\"Enter First Number: \")\n",
    "    b=input(\"Enter Second Number: \")\n",
    "    ans=int(a)+int(b)\n",
    "    print(\"Answer is: \",ans)\n",
    "    \n",
    "elif choice==2 :\n",
    "    a=input(\"Enter First Number: \")\n",
    "    b=input(\"Enter Second Number: \")\n",
    "    ans=int(a)-int(b)\n",
    "    print(\"Answer is: \",ans)\n",
    "    \n",
    "elif choice==3 :\n",
    "    a=input(\"Enter First Number: \")\n",
    "    b=input(\"Enter Second Number: \")\n",
    "    ans=int(a)*int(b)\n",
    "    print(\"Answer is: \",ans)\n",
    "   \n",
    "elif choice==4 :\n",
    "    a=input(\"Enter First Number: \")\n",
    "    b=input(\"Enter Second Number: \")\n",
    "    ans=int(a)/int(b)\n",
    "    print(\"Answer is: \",ans)\n",
    "  \n",
    "elif choice==5 :\n",
    "    a=input(\"Enter base: \")\n",
    "    b=input(\"Enter Power: \")\n",
    "    ans=pow(int(a), int(b))\n",
    "    print(a,\" to the power \",b,\" is: \",ans)\n",
    "   \n",
    "else :\n",
    "    print(\"Wrong Input !\")\n",
    "   \n"
   ]
  },
  {
   "cell_type": "code",
   "execution_count": 3,
   "metadata": {},
   "outputs": [
    {
     "name": "stdout",
     "output_type": "stream",
     "text": [
      "2  is digit in list\n",
      "\n",
      "4  is digit in list\n",
      "\n",
      "5  is digit in list\n",
      "\n",
      "12  is digit in list\n",
      "\n"
     ]
    }
   ],
   "source": [
    "list_1=['a', \"saif\", 2,4,True, 5,\"khan\",12]\n",
    "for a in list_1 :\n",
    "    if str(a).isdigit():\n",
    "        print(a, \" is digit in list\\n\")"
   ]
  },
  {
   "cell_type": "code",
   "execution_count": 4,
   "metadata": {},
   "outputs": [
    {
     "name": "stdout",
     "output_type": "stream",
     "text": [
      "{'Fname': 'saif'}\n",
      "Enter Key to add in Customer Dictionary: Lname\n",
      "Enter Value to add in Customer Dictionary: khan\n",
      "{'Fname': 'saif', 'Lname': 'khan'}\n"
     ]
    }
   ],
   "source": [
    "customer={\n",
    "    \"Fname\":\"saif\"\n",
    "}\n",
    "print(customer)\n",
    "key=input(\"Enter Key to add in Customer Dictionary: \")\n",
    "value=input(\"Enter Value to add in Customer Dictionary: \")\n",
    "customer[key]=value\n",
    "\n",
    "print(customer)"
   ]
  },
  {
   "cell_type": "code",
   "execution_count": 5,
   "metadata": {},
   "outputs": [
    {
     "name": "stdout",
     "output_type": "stream",
     "text": [
      "Sum of numeric values is:  25\n"
     ]
    }
   ],
   "source": [
    "customer_2={\n",
    "    \"Name:\": \"Saif\",\n",
    "    \"Age:\": 20,\n",
    "    \"Blood_Group\":\"B+\",\n",
    "    \"Street no:\":5,\n",
    "    \n",
    "}\n",
    "sum=0;\n",
    "for check in customer_2.values():\n",
    "    if str(check).isdigit():\n",
    "        sum+=int(check)\n",
    "        \n",
    "print(\"Sum of numeric values is: \",sum)\n",
    "    "
   ]
  },
  {
   "cell_type": "code",
   "execution_count": 6,
   "metadata": {},
   "outputs": [
    {
     "name": "stdout",
     "output_type": "stream",
     "text": [
      "Elements in list [1, 2, 3, 1, 4, 5, 2, 4] \n",
      "Size of list:  8 \n",
      "\n",
      "Dublicate found ! 1\n",
      "Dublicate found ! 2\n",
      "Dublicate found ! 4\n"
     ]
    }
   ],
   "source": [
    "list_1=[1,2,3,1,4,5,2,4]\n",
    "l=len(list_1)\n",
    "print(\"Elements in list\",list_1,\"\\nSize of list: \",l,\"\\n\")\n",
    "\n",
    "for a in range(l):\n",
    "    k=a + 1  #comparition start with comparining first index with second i.e a+1\n",
    "    for b in range(k, l) :\n",
    "        if list_1[a]==list_1[b] :\n",
    "            print(\"Dublicate found !\", list_1[a])\n"
   ]
  },
  {
   "cell_type": "code",
   "execution_count": 7,
   "metadata": {},
   "outputs": [
    {
     "name": "stdout",
     "output_type": "stream",
     "text": [
      "Enter new key of Cutomer Dictionary: Age\n",
      "Key already Exists !\n",
      "{'Name': 'Saif', 'Age': 20, 'Blood_Group': 'B+', 'Street no': 5}\n"
     ]
    }
   ],
   "source": [
    "customer_2={\n",
    "    \"Name\": \"Saif\",\n",
    "    \"Age\": 20,\n",
    "    \"Blood_Group\":\"B+\",\n",
    "    \"Street no\":5,\n",
    "    \n",
    "}\n",
    "key=input(\"Enter new key of Cutomer Dictionary: \")\n",
    "if key in customer_2 :\n",
    "    print(\"Key already Exists !\")\n",
    "    \n",
    "else :\n",
    "    value=input(\"Enter value: \")\n",
    "    customer_2[key]=value\n",
    "print(customer_2)\n"
   ]
  },
  {
   "cell_type": "code",
   "execution_count": null,
   "metadata": {},
   "outputs": [],
   "source": []
  },
  {
   "cell_type": "code",
   "execution_count": null,
   "metadata": {},
   "outputs": [],
   "source": []
  }
 ],
 "metadata": {
  "kernelspec": {
   "display_name": "Python 3",
   "language": "python",
   "name": "python3"
  },
  "language_info": {
   "codemirror_mode": {
    "name": "ipython",
    "version": 3
   },
   "file_extension": ".py",
   "mimetype": "text/x-python",
   "name": "python",
   "nbconvert_exporter": "python",
   "pygments_lexer": "ipython3",
   "version": "3.7.4"
  }
 },
 "nbformat": 4,
 "nbformat_minor": 2
}

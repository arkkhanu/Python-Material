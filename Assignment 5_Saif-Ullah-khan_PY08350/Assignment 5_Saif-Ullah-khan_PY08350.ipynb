{
 "cells": [
  {
   "cell_type": "code",
   "execution_count": 15,
   "metadata": {},
   "outputs": [
    {
     "name": "stdout",
     "output_type": "stream",
     "text": [
      "Enter Number to find its Factorial: 4\n",
      "Factorial of 4 is 24\n"
     ]
    }
   ],
   "source": [
    "def fact(num):\n",
    "    if num > 1:\n",
    "        return num*(fact(num-1))\n",
    "    else:\n",
    "      return 1\n",
    "        \n",
    "num=int(input(\"Enter Number to find its Factorial: \"))\n",
    "print(\"Factorial of\",num,\"is\",fact(num))\n"
   ]
  },
  {
   "cell_type": "code",
   "execution_count": 23,
   "metadata": {},
   "outputs": [
    {
     "name": "stdout",
     "output_type": "stream",
     "text": [
      "Enter String: SaiF\n",
      "In SaiF total upper case letters are 2 and total lower case letters are 2\n"
     ]
    }
   ],
   "source": [
    "def ulcase(check):\n",
    "    count_u=0\n",
    "    count_l=0\n",
    "    for i in check:\n",
    "        if i.isupper()==1:\n",
    "            count_u=count_u+1\n",
    "        else:\n",
    "            count_l=count_l+1\n",
    "        \n",
    "    print(\"In\",check,\"total upper case letters are\",count_u,\"and total lower case letters are\",count_l)\n",
    "    \n",
    "check=input(\"Enter String: \")\n",
    "ulcase(check)\n"
   ]
  },
  {
   "cell_type": "code",
   "execution_count": 1,
   "metadata": {},
   "outputs": [
    {
     "name": "stdout",
     "output_type": "stream",
     "text": [
      "Total numbers are: \n",
      "1 2 3 4 5 \n",
      "Enter no: 6\n",
      "Do you want to add more press no ? Press y to continuen\n",
      "Even no are:\n",
      "2 4 6 "
     ]
    }
   ],
   "source": [
    "from IPython.display import clear_output\n",
    "def even_no(no_list):\n",
    "    #clear_output();\n",
    "    print(\"Even no are:\")\n",
    "    for i in no_list:\n",
    "        if i%2==0:\n",
    "            print(i, end=' ')\n",
    "\n",
    "\n",
    "no_list=[]\n",
    "while 1:\n",
    "    clear_output()\n",
    "    print(\"Total numbers are: \")\n",
    "    for i in no_list:\n",
    "        print(i, end=' ')\n",
    "    no_list.append(int(input(\"\\nEnter no: \")))\n",
    "    opt=input(\"Do you want to add more press no ? Press y to continue\")\n",
    "    if opt!='y' and opt!='Y':\n",
    "        even_no(no_list)\n",
    "        break\n",
    "        \n",
    "\n",
    "        "
   ]
  },
  {
   "cell_type": "code",
   "execution_count": 8,
   "metadata": {},
   "outputs": [
    {
     "name": "stdout",
     "output_type": "stream",
     "text": [
      "Enter word to check Palindrome: madam\n",
      "madam is palindrome !\n"
     ]
    }
   ],
   "source": [
    "def palindrome(word):\n",
    "    for i in range(0, int(len(word)/2)): #check half of the length\n",
    "        if word[i]!=word[len(word)-i-1]: #check first letter with last and so on\n",
    "            return False\n",
    "    return True\n",
    "\n",
    "word=input(\"Enter word to check Palindrome: \")\n",
    "ans=palindrome(word)\n",
    "if ans:\n",
    "    print(word+\" is palindrome !\")\n",
    "else:\n",
    "    print(word+\" is not palindrome !\")\n"
   ]
  },
  {
   "cell_type": "code",
   "execution_count": 15,
   "metadata": {},
   "outputs": [
    {
     "name": "stdout",
     "output_type": "stream",
     "text": [
      "Enter no to check prime:7\n",
      "7 is prime !\n"
     ]
    }
   ],
   "source": [
    "def prime(no): #prime no are no that divide by 1 or itself only\n",
    "    if(no>1):\n",
    "        if no%2==0:\n",
    "            return False\n",
    "        else:\n",
    "            return True\n",
    "    else:\n",
    "        return False\n",
    "    \n",
    "no=int(input(\"Enter no to check prime:\"))\n",
    "if prime(no)==True:\n",
    "    print(no,\"is prime !\")\n",
    "else:\n",
    "    print(no,\"is not prime !\") \n",
    "        "
   ]
  },
  {
   "cell_type": "code",
   "execution_count": 21,
   "metadata": {},
   "outputs": [
    {
     "name": "stdout",
     "output_type": "stream",
     "text": [
      "\n",
      "You Bought:\n",
      "Toothpaste Washing powder \n",
      "\n",
      "\n",
      "You Bought:\n",
      "Toothpaste Washing powder FLoor Soup \n",
      "\n",
      "\n",
      "You Bought:\n",
      "TV \n",
      "\n"
     ]
    }
   ],
   "source": [
    "def cart(*args):\n",
    "    print(\"\\nYou Bought:\")\n",
    "    for i in args:\n",
    "        print(i,end=' ')\n",
    "    print(\"\\n\")\n",
    "\n",
    "cart(\"Toothpaste\",\"Washing powder\")\n",
    "cart(\"Toothpaste\",\"Washing powder\",\"FLoor\",\"Soup\")\n",
    "cart(\"TV\")\n",
    "    "
   ]
  },
  {
   "cell_type": "code",
   "execution_count": null,
   "metadata": {},
   "outputs": [],
   "source": []
  }
 ],
 "metadata": {
  "kernelspec": {
   "display_name": "Python 3",
   "language": "python",
   "name": "python3"
  },
  "language_info": {
   "codemirror_mode": {
    "name": "ipython",
    "version": 3
   },
   "file_extension": ".py",
   "mimetype": "text/x-python",
   "name": "python",
   "nbconvert_exporter": "python",
   "pygments_lexer": "ipython3",
   "version": "3.7.4"
  }
 },
 "nbformat": 4,
 "nbformat_minor": 2
}
